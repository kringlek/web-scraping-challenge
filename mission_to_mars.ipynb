{
 "cells": [
  {
   "cell_type": "code",
   "execution_count": 11,
   "id": "e1f7ceed",
   "metadata": {},
   "outputs": [],
   "source": [
    "#import dependencies\n",
    "from splinter import Browser\n",
    "from bs4 import BeautifulSoup \n",
    "from webdriver_manager.chrome import ChromeDriverManager\n",
    "import pandas as pd"
   ]
  },
  {
   "cell_type": "code",
   "execution_count": 12,
   "id": "03ba2d53",
   "metadata": {},
   "outputs": [],
   "source": [
    "# Setup splinter\n",
    "executable_path = {'executable_path': ChromeDriverManager().install()}"
   ]
  },
  {
   "cell_type": "markdown",
   "id": "3b4da0e5",
   "metadata": {},
   "source": [
    "NASA Mars News-website scraping"
   ]
  },
  {
   "cell_type": "code",
   "execution_count": 16,
   "id": "04123574",
   "metadata": {},
   "outputs": [],
   "source": [
    "#Scrape Mars News Site & Assign Variables for Reference\n",
    "#get to website\n",
    "browser  = Browser('chrome', **executable_path, headless=False)\n",
    "news_url = 'https://redplanetscience.com/'        \n",
    "browser.visit(news_url)\n",
    "\n",
    "#html to soup obj\n",
    "news_web = browser.html\n",
    "news_obj = BeautifulSoup(news_web, 'html.parser')\n",
    "browser.quit()"
   ]
  },
  {
   "cell_type": "code",
   "execution_count": 17,
   "id": "24b94a40",
   "metadata": {},
   "outputs": [
    {
     "name": "stdout",
     "output_type": "stream",
     "text": [
      "news_title = NASA Invites Public to Share Excitement of Mars 2020 Perseverance Rover Launch\n",
      "news_p = There are lots of ways to participate in the historic event, which is targeted for July 30.\n"
     ]
    }
   ],
   "source": [
    "#find latest news title/text info\n",
    "news_info = news_obj.find_all('div', class_='list_text')\n",
    "latest_news = news_info[0]\n",
    "\n",
    "news_title = latest_news.find('div', class_='content_title').text\n",
    "news_p = latest_news.find('div', class_='article_teaser_body').text\n",
    "\n",
    "#output\n",
    "print(f\"news_title = {news_title}\")\n",
    "print(f\"news_p = {news_p}\")"
   ]
  },
  {
   "cell_type": "markdown",
   "id": "69316ee3",
   "metadata": {},
   "source": [
    "JPL Mars Space Images:Featured Image-Web Scraping"
   ]
  },
  {
   "cell_type": "code",
   "execution_count": 18,
   "id": "3112a303",
   "metadata": {},
   "outputs": [],
   "source": [
    "#Images\n",
    "browser = Browser('chrome', **executable_path, headless=False)\n",
    "image_url = 'https://spaceimages-mars.com'\n",
    "browser.visit(image_url)\n",
    "\n",
    "#html to soup obj\n",
    "image_web = browser.html\n",
    "image_obj = BeautifulSoup(image_web, 'html.parser')\n",
    "browser.quit()"
   ]
  },
  {
   "cell_type": "code",
   "execution_count": 19,
   "id": "a6286bc9",
   "metadata": {},
   "outputs": [
    {
     "name": "stdout",
     "output_type": "stream",
     "text": [
      "featured_image_url = https://spaceimages-mars.com/image/featured/mars2.jpg\n"
     ]
    }
   ],
   "source": [
    "image_srcs = image_obj.find_all('div', class_='floating_text_area')\n",
    "\n",
    "#loop\n",
    "for image_src in image_srcs:\n",
    "    try: \n",
    "        image_filename = image_src.a['href']\n",
    "        featured_image_url = f\"{image_url}/{image_filename}\"\n",
    "        print (f\"featured_image_url = {featured_image_url}\")\n",
    "        \n",
    "    except AttributeError as e:\n",
    "        print(e)"
   ]
  },
  {
   "cell_type": "markdown",
   "id": "114282f0",
   "metadata": {},
   "source": [
    "Mars Facts-Web Scraping"
   ]
  },
  {
   "cell_type": "code",
   "execution_count": 20,
   "id": "2a786005",
   "metadata": {},
   "outputs": [],
   "source": [
    "#get to website\n",
    "browser   = Browser('chrome', **executable_path, headless=False)\n",
    "facts_url = 'https://galaxyfacts-mars.com'\n",
    "browser.visit(facts_url)\n",
    "\n",
    "#html to soup obj\n",
    "facts_web = browser.html\n",
    "facts_obj = BeautifulSoup(facts_web, 'html.parser')\n",
    "browser.quit()"
   ]
  },
  {
   "cell_type": "code",
   "execution_count": 21,
   "id": "c0990fbc",
   "metadata": {},
   "outputs": [
    {
     "data": {
      "text/html": [
       "<div>\n",
       "<style scoped>\n",
       "    .dataframe tbody tr th:only-of-type {\n",
       "        vertical-align: middle;\n",
       "    }\n",
       "\n",
       "    .dataframe tbody tr th {\n",
       "        vertical-align: top;\n",
       "    }\n",
       "\n",
       "    .dataframe thead th {\n",
       "        text-align: right;\n",
       "    }\n",
       "</style>\n",
       "<table border=\"1\" class=\"dataframe\">\n",
       "  <thead>\n",
       "    <tr style=\"text-align: right;\">\n",
       "      <th></th>\n",
       "      <th>Mars</th>\n",
       "      <th>Earth</th>\n",
       "    </tr>\n",
       "    <tr>\n",
       "      <th>Description</th>\n",
       "      <th></th>\n",
       "      <th></th>\n",
       "    </tr>\n",
       "  </thead>\n",
       "  <tbody>\n",
       "    <tr>\n",
       "      <th>Mars - Earth Comparison</th>\n",
       "      <td>Mars</td>\n",
       "      <td>Earth</td>\n",
       "    </tr>\n",
       "    <tr>\n",
       "      <th>Diameter:</th>\n",
       "      <td>6,779 km</td>\n",
       "      <td>12,742 km</td>\n",
       "    </tr>\n",
       "    <tr>\n",
       "      <th>Mass:</th>\n",
       "      <td>6.39 × 10^23 kg</td>\n",
       "      <td>5.97 × 10^24 kg</td>\n",
       "    </tr>\n",
       "    <tr>\n",
       "      <th>Moons:</th>\n",
       "      <td>2</td>\n",
       "      <td>1</td>\n",
       "    </tr>\n",
       "    <tr>\n",
       "      <th>Distance from Sun:</th>\n",
       "      <td>227,943,824 km</td>\n",
       "      <td>149,598,262 km</td>\n",
       "    </tr>\n",
       "    <tr>\n",
       "      <th>Length of Year:</th>\n",
       "      <td>687 Earth days</td>\n",
       "      <td>365.24 days</td>\n",
       "    </tr>\n",
       "    <tr>\n",
       "      <th>Temperature:</th>\n",
       "      <td>-87 to -5 °C</td>\n",
       "      <td>-88 to 58°C</td>\n",
       "    </tr>\n",
       "  </tbody>\n",
       "</table>\n",
       "</div>"
      ],
      "text/plain": [
       "                                    Mars            Earth\n",
       "Description                                              \n",
       "Mars - Earth Comparison             Mars            Earth\n",
       "Diameter:                       6,779 km        12,742 km\n",
       "Mass:                    6.39 × 10^23 kg  5.97 × 10^24 kg\n",
       "Moons:                                 2                1\n",
       "Distance from Sun:        227,943,824 km   149,598,262 km\n",
       "Length of Year:           687 Earth days      365.24 days\n",
       "Temperature:                -87 to -5 °C      -88 to 58°C"
      ]
     },
     "execution_count": 21,
     "metadata": {},
     "output_type": "execute_result"
    }
   ],
   "source": [
    "#data scrape for desired info\n",
    "tables = pd.read_html(facts_url)\n",
    "\n",
    "#save data to df\n",
    "mars_facts = tables[0]\n",
    "mars_facts.columns = ['Description', 'Mars','Earth']\n",
    "mars_facts = mars_facts.set_index('Description') \n",
    "\n",
    "mars_facts"
   ]
  },
  {
   "cell_type": "code",
   "execution_count": 22,
   "id": "9879533f",
   "metadata": {},
   "outputs": [
    {
     "name": "stdout",
     "output_type": "stream",
     "text": [
      "<table border=\"1\" class=\"dataframe\">\n",
      "  <thead>\n",
      "    <tr style=\"text-align: right;\">\n",
      "      <th></th>\n",
      "      <th>Mars</th>\n",
      "      <th>Earth</th>\n",
      "    </tr>\n",
      "    <tr>\n",
      "      <th>Description</th>\n",
      "      <th></th>\n",
      "      <th></th>\n",
      "    </tr>\n",
      "  </thead>\n",
      "  <tbody>\n",
      "    <tr>\n",
      "      <th>Mars - Earth Comparison</th>\n",
      "      <td>Mars</td>\n",
      "      <td>Earth</td>\n",
      "    </tr>\n",
      "    <tr>\n",
      "      <th>Diameter:</th>\n",
      "      <td>6,779 km</td>\n",
      "      <td>12,742 km</td>\n",
      "    </tr>\n",
      "    <tr>\n",
      "      <th>Mass:</th>\n",
      "      <td>6.39 × 10^23 kg</td>\n",
      "      <td>5.97 × 10^24 kg</td>\n",
      "    </tr>\n",
      "    <tr>\n",
      "      <th>Moons:</th>\n",
      "      <td>2</td>\n",
      "      <td>1</td>\n",
      "    </tr>\n",
      "    <tr>\n",
      "      <th>Distance from Sun:</th>\n",
      "      <td>227,943,824 km</td>\n",
      "      <td>149,598,262 km</td>\n",
      "    </tr>\n",
      "    <tr>\n",
      "      <th>Length of Year:</th>\n",
      "      <td>687 Earth days</td>\n",
      "      <td>365.24 days</td>\n",
      "    </tr>\n",
      "    <tr>\n",
      "      <th>Temperature:</th>\n",
      "      <td>-87 to -5 °C</td>\n",
      "      <td>-88 to 58°C</td>\n",
      "    </tr>\n",
      "  </tbody>\n",
      "</table>\n"
     ]
    }
   ],
   "source": [
    "#convert df to html table str\n",
    "facts_html = mars_facts.to_html()\n",
    "print(facts_html)"
   ]
  },
  {
   "cell_type": "markdown",
   "id": "c09889f6",
   "metadata": {},
   "source": [
    "Mars Hemisphere-Web Scraping"
   ]
  },
  {
   "cell_type": "code",
   "execution_count": 24,
   "id": "197ac3b3",
   "metadata": {},
   "outputs": [],
   "source": [
    "#website\n",
    "browser = Browser('chrome', **executable_path, headless=False)\n",
    "hemisphere_url = 'https://marshemispheres.com/'\n",
    "browser.visit(hemisphere_url)\n",
    "\n",
    "#html to soup obj\n",
    "hemisphere_web = browser.html\n",
    "hemisphere_obj = BeautifulSoup(hemisphere_web, 'html.parser')\n",
    "browser.quit()"
   ]
  },
  {
   "cell_type": "code",
   "execution_count": 25,
   "id": "fd5b4eef",
   "metadata": {},
   "outputs": [
    {
     "data": {
      "text/plain": [
       "[{'title': 'Cerberus Hemisphere Enhanced',\n",
       "  'img_url': 'https://marshemispheres.com/cerberus.html',\n",
       "  'img_src_url': 'https://marshemispheres.com/images/39d3266553462198bd2fbc4d18fbed17_cerberus_enhanced.tif_thumb.png'},\n",
       " {'title': 'Schiaparelli Hemisphere Enhanced',\n",
       "  'img_url': 'https://marshemispheres.com/schiaparelli.html',\n",
       "  'img_src_url': 'https://marshemispheres.com/images/08eac6e22c07fb1fe72223a79252de20_schiaparelli_enhanced.tif_thumb.png'},\n",
       " {'title': 'Syrtis Major Hemisphere Enhanced',\n",
       "  'img_url': 'https://marshemispheres.com/syrtis.html',\n",
       "  'img_src_url': 'https://marshemispheres.com/images/55a0a1e2796313fdeafb17c35925e8ac_syrtis_major_enhanced.tif_thumb.png'},\n",
       " {'title': 'Valles Marineris Hemisphere Enhanced',\n",
       "  'img_url': 'https://marshemispheres.com/valles.html',\n",
       "  'img_src_url': 'https://marshemispheres.com/images/4e59980c1c57f89c680c0e1ccabbeff1_valles_marineris_enhanced.tif_thumb.png'}]"
      ]
     },
     "execution_count": 25,
     "metadata": {},
     "output_type": "execute_result"
    }
   ],
   "source": [
    "#search for desired info\n",
    "hemisphere_images = hemisphere_obj.find_all('div', class_=\"item\")\n",
    "\n",
    "#loop through & save\n",
    "mars_hemisphere_urls = []\n",
    "\n",
    "for item in hemisphere_images:\n",
    "    \n",
    "    try:\n",
    "        mars_hemispheres_images = {}\n",
    "        img_title_h3 = item.find_all('h3')\n",
    "        img_title = img_title_h3[0].text\n",
    "        a = item.find_all('a')\n",
    "        a_url = a[0]['href']\n",
    "        img_url = f\"{hemisphere_url}{ a_url}\"\n",
    "        img_src = item.img['src']\n",
    "  \n",
    "        #save\n",
    "        img_src_url = f\"{hemisphere_url}{img_src}\"\n",
    "        mars_hemispheres_images['title']       =  img_title   \n",
    "        mars_hemispheres_images['img_url']     =  img_url \n",
    "        mars_hemispheres_images['img_src_url'] =  img_src_url \n",
    "        mars_hemisphere_urls.append(mars_hemispheres_images)\n",
    "        \n",
    "    except AttributeError as e:\n",
    "        print(e)\n",
    "        \n",
    "mars_hemisphere_urls"
   ]
  }
 ],
 "metadata": {
  "kernelspec": {
   "display_name": "Python 3 (ipykernel)",
   "language": "python",
   "name": "python3"
  },
  "language_info": {
   "codemirror_mode": {
    "name": "ipython",
    "version": 3
   },
   "file_extension": ".py",
   "mimetype": "text/x-python",
   "name": "python",
   "nbconvert_exporter": "python",
   "pygments_lexer": "ipython3",
   "version": "3.9.12"
  }
 },
 "nbformat": 4,
 "nbformat_minor": 5
}
